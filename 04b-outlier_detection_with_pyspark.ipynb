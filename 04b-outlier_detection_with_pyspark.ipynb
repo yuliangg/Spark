{
 "cells": [
  {
   "cell_type": "markdown",
   "metadata": {},
   "source": [
    "# Porting an analysis from local to distributed\n",
    "\n",
    "In this pair of notebooks, we will develop a prototype unsupervised analysis with sklearn and then port it to use Spark, as we might in real life.\n",
    "\n",
    "<a href = \"http://yogen.io\"><img src=\"http://yogen.io/assets/logo.svg\" alt=\"yogen\" style=\"width: 200px; float: right;\"/></a>"
   ]
  },
  {
   "cell_type": "markdown",
   "metadata": {},
   "source": [
    "## Porting our analysis to a distributed setting using Spark DataFrames\n",
    "\n",
    "First, read the input file"
   ]
  },
  {
   "cell_type": "code",
   "execution_count": null,
   "metadata": {
    "collapsed": true
   },
   "outputs": [],
   "source": [
    "from pyspark.sql import SparkSession\n",
    "\n",
    "session = SparkSession.builder.getOrCreate()"
   ]
  },
  {
   "cell_type": "markdown",
   "metadata": {},
   "source": [
    "We can specify `.read` options in two equivalent ways:"
   ]
  },
  {
   "cell_type": "code",
   "execution_count": 2,
   "metadata": {},
   "outputs": [
    {
     "name": "stdout",
     "output_type": "stream",
     "text": [
      "+------+------------------+------------+---------------+-----------------+-------------------+----------------+-----------------+-----------+-----------+--------------------+----------------------+--------------------+-------------------+----------+------------------+-------------+---------------+------------+-------------+---------+--------+----------------+------------------+----------------+---------------+---------+---------+------------------+--------------------+-------------+--------+--------+----------------+------------------+--------+-----------------+-------+-------+------------+-------------+-----------+--------------+--------------+---------------------+-------------------+-------------------+----------+-----------------+------------+-------+------------------+-------------+-------------------------+----------------------------+---------+----------+-----------------+------------------+\n",
      "|  rloc|departure_date_seg|booking_date|freq_flyer_flag|creator_office_id|creator_iata_number|creator_gds_code|creator_city_code|creator_lat|creator_lon|creator_country_code|creator_continent_code|creator_channel_code|booking_status_code|cabin_code|booking_class_code|pos_office_id|pos_iata_number|pos_gds_code|pos_city_code|  pos_lat| pos_lon|pos_country_code|pos_continent_code|pos_channel_code|board_point_seg|board_lat|board_lon|board_country_code|board_continent_code|off_point_seg| off_lat| off_lon|off_country_code|off_continent_code|num_legs|     distance_seg|  route|network|airline_code|flight_number|flight_type|revenue_source|estimated_flag|usage_board_point_seg|usage_off_point_seg|usage_flight_number|usage_date|non_currency_type|bookings_seg|rpk_seg|revenue_amount_seg|currency_code|fuel_surcharge_amount_seg|fuel_surcharge_currency_code|emd_count|emd_amount|emd_currency_code|    total_outliers|\n",
      "+------+------------------+------------+---------------+-----------------+-------------------+----------------+-----------------+-----------+-----------+--------------------+----------------------+--------------------+-------------------+----------+------------------+-------------+---------------+------------+-------------+---------+--------+----------------+------------------+----------------+---------------+---------+---------+------------------+--------------------+-------------+--------+--------+----------------+------------------+--------+-----------------+-------+-------+------------+-------------+-----------+--------------+--------------+---------------------+-------------------+-------------------+----------+-----------------+------------+-------+------------------+-------------+-------------------------+----------------------------+---------+----------+-----------------+------------------+\n",
      "|59GS9Y|        2013-12-21|  2013-09-05|          false|        RUNHS3103|           66200201|              1A|              RUN|  -20.90083|   55.53715|                  RE|                Africa|        Travel Agent|                 HK|         Y|                 N|    RUNHS3103|       66200201|          1A|          RUN|-20.90083|55.53715|              RE|            Africa|    Travel Agent|            ZYR|  50.8348|  4.33653|                BE|              Europe|          CDG|49.01278|    2.55|              FR|            Europe|       0| 239.573363253866|CDG-ZYR| Europe|          UU|         5901|          I|          LIFT|         false|                  ZYR|                CDG|               5901|2013-12-21|             null|           1|    239|             33.56|          EUR|                     7.30|                         EUR|        0|      0.00|             null|               7.3|\n",
      "|4D87YU|        2013-12-29|  2013-01-29|          false|        RUNUU000B|           66490104|              UU|              RUN|  -20.90083|   55.53715|                  RE|                Africa|             Airline|                 HK|         Y|                 V|    RUNUU000B|       66490104|          UU|          RUN|-20.90083|55.53715|              RE|            Africa|         Airline|            RUN|-20.90083| 55.53715|                RE|              Africa|          MRU|   -20.3|57.58333|              MU|            Africa|       1|223.2065266832839|MRU-RUN| Africa|          UU|          128|          I|          LIFT|         false|                  RUN|                MRU|                104|2013-12-29|             null|           5|   1116|            306.00|          EUR|                   127.50|                         EUR|        0|      0.00|             null| 77.27101684193879|\n",
      "|7W67K8|        2013-12-29|  2013-02-05|          false|        RUNUU01A3|           66490830|              UU|              RUN|  -20.90083|   55.53715|                  RE|                Africa|             Airline|                 HK|         Y|                 U|    RUNUU01A3|       66490830|          1A|          RUN|-20.90083|55.53715|              RE|            Africa|         Airline|            RUN|-20.90083| 55.53715|                RE|              Africa|          MRU|   -20.3|57.58333|              MU|            Africa|       1|223.2065266832839|MRU-RUN| Africa|          UU|          128|          I|          LIFT|         false|                  RUN|                MRU|                128|2013-12-29|             null|          19|   4240|           1365.50|          EUR|                   234.00|                         EUR|        0|      0.00|             null| 278.1756606309797|\n",
      "|3ESPWM|        2013-12-29|  2013-03-19|          false|        RUNUU010C|           66490771|              UU|              RUN|  -20.90083|   55.53715|                  RE|                Africa|             Airline|                 HK|         Y|                 N|    RUNUU01AA|       66490152|          1A|          RUN|-20.90083|55.53715|              RE|            Africa|         Airline|            CDG| 49.01278|     2.55|                FR|              Europe|          XYD|   45.73|   4.933|              FR|            Europe|       1|406.7027254223514|CDG-XYD| Europe|          UU|         5500|          D|          LIFT|         false|                  CDG|                XYD|               5500|2013-12-29|             null|           3|   1220|             81.35|          EUR|                    39.93|                         EUR|        0|      0.00|             null| 32.45824285714286|\n",
      "|6ITPJM|        2013-12-29|  2013-05-11|          false|        MRSA12108|           20261721|              1A|              MRS|   43.29695|    5.38107|                  FR|                Europe|        Travel Agent|                 HK|         Y|                 N|    MRSA12108|       20261721|          1A|          MRS| 43.29695| 5.38107|              FR|            Europe|    Travel Agent|            XRF| 43.30285|  5.38068|                FR|              Europe|          CDG|49.01278|    2.55|              FR|            Europe|       1|671.1777128889785|CDG-XRF| Europe|          UU|         5627|          D|          LIFT|         false|                  XRF|                CDG|               5627|2013-12-29|               IT|           2|   1342|              0.00|          EUR|                    31.82|                         EUR|        0|      0.00|             null|32.496506550218356|\n",
      "+------+------------------+------------+---------------+-----------------+-------------------+----------------+-----------------+-----------+-----------+--------------------+----------------------+--------------------+-------------------+----------+------------------+-------------+---------------+------------+-------------+---------+--------+----------------+------------------+----------------+---------------+---------+---------+------------------+--------------------+-------------+--------+--------+----------------+------------------+--------+-----------------+-------+-------+------------+-------------+-----------+--------------+--------------+---------------------+-------------------+-------------------+----------+-----------------+------------+-------+------------------+-------------+-------------------------+----------------------------+---------+----------+-----------------+------------------+\n",
      "only showing top 5 rows\n",
      "\n"
     ]
    }
   ],
   "source": [
    "df = session.read.csv('sales_segments.csv.gz', sep='^', header=True)\n",
    "df.show(5)"
   ]
  },
  {
   "cell_type": "code",
   "execution_count": 3,
   "metadata": {},
   "outputs": [
    {
     "name": "stdout",
     "output_type": "stream",
     "text": [
      "+------+------------------+------------+---------------+-----------------+-------------------+----------------+-----------------+-----------+-----------+--------------------+----------------------+--------------------+-------------------+----------+------------------+-------------+---------------+------------+-------------+---------+--------+----------------+------------------+----------------+---------------+---------+---------+------------------+--------------------+-------------+--------+-------+----------------+------------------+--------+----------------+-------+-------+------------+-------------+-----------+--------------+--------------+---------------------+-------------------+-------------------+----------+-----------------+------------+-------+------------------+-------------+-------------------------+----------------------------+---------+----------+-----------------+--------------+\n",
      "|  rloc|departure_date_seg|booking_date|freq_flyer_flag|creator_office_id|creator_iata_number|creator_gds_code|creator_city_code|creator_lat|creator_lon|creator_country_code|creator_continent_code|creator_channel_code|booking_status_code|cabin_code|booking_class_code|pos_office_id|pos_iata_number|pos_gds_code|pos_city_code|  pos_lat| pos_lon|pos_country_code|pos_continent_code|pos_channel_code|board_point_seg|board_lat|board_lon|board_country_code|board_continent_code|off_point_seg| off_lat|off_lon|off_country_code|off_continent_code|num_legs|    distance_seg|  route|network|airline_code|flight_number|flight_type|revenue_source|estimated_flag|usage_board_point_seg|usage_off_point_seg|usage_flight_number|usage_date|non_currency_type|bookings_seg|rpk_seg|revenue_amount_seg|currency_code|fuel_surcharge_amount_seg|fuel_surcharge_currency_code|emd_count|emd_amount|emd_currency_code|total_outliers|\n",
      "+------+------------------+------------+---------------+-----------------+-------------------+----------------+-----------------+-----------+-----------+--------------------+----------------------+--------------------+-------------------+----------+------------------+-------------+---------------+------------+-------------+---------+--------+----------------+------------------+----------------+---------------+---------+---------+------------------+--------------------+-------------+--------+-------+----------------+------------------+--------+----------------+-------+-------+------------+-------------+-----------+--------------+--------------+---------------------+-------------------+-------------------+----------+-----------------+------------+-------+------------------+-------------+-------------------------+----------------------------+---------+----------+-----------------+--------------+\n",
      "|59GS9Y|        2013-12-21|  2013-09-05|          false|        RUNHS3103|           66200201|              1A|              RUN|  -20.90083|   55.53715|                  RE|                Africa|        Travel Agent|                 HK|         Y|                 N|    RUNHS3103|       66200201|          1A|          RUN|-20.90083|55.53715|              RE|            Africa|    Travel Agent|            ZYR|  50.8348|  4.33653|                BE|              Europe|          CDG|49.01278|   2.55|              FR|            Europe|       0|239.573363253866|CDG-ZYR| Europe|          UU|         5901|          I|          LIFT|         false|                  ZYR|                CDG|               5901|2013-12-21|             null|           1|    239|             33.56|          EUR|                     7.30|                         EUR|        0|      0.00|             null|           7.3|\n",
      "+------+------------------+------------+---------------+-----------------+-------------------+----------------+-----------------+-----------+-----------+--------------------+----------------------+--------------------+-------------------+----------+------------------+-------------+---------------+------------+-------------+---------+--------+----------------+------------------+----------------+---------------+---------+---------+------------------+--------------------+-------------+--------+-------+----------------+------------------+--------+----------------+-------+-------+------------+-------------+-----------+--------------+--------------+---------------------+-------------------+-------------------+----------+-----------------+------------+-------+------------------+-------------+-------------------------+----------------------------+---------+----------+-----------------+--------------+\n",
      "only showing top 1 row\n",
      "\n"
     ]
    }
   ],
   "source": [
    "df = session.read\\\n",
    "    .option('header', 'true')\\\n",
    "    .option('sep', '^')\\\n",
    "    .csv('data/sales_segments.csv.gz')\n",
    "df.show(1)"
   ]
  },
  {
   "cell_type": "markdown",
   "metadata": {},
   "source": [
    "### Extract KPIs\n",
    "\n",
    "A direct transliteration of what we did with sklearn: columnwise arithmetic"
   ]
  },
  {
   "cell_type": "code",
   "execution_count": 4,
   "metadata": {
    "collapsed": true
   },
   "outputs": [],
   "source": [
    "kpis = df.select((df['revenue_amount_seg'] / df['bookings_seg']).alias('revenue'),\n",
    "                 (df['fuel_surcharge_amount_seg'] / df['bookings_seg']).alias('tax'))\\\n",
    "         .cache()\n"
   ]
  },
  {
   "cell_type": "code",
   "execution_count": 5,
   "metadata": {},
   "outputs": [
    {
     "name": "stdout",
     "output_type": "stream",
     "text": [
      "+------------------+-----------------+\n",
      "|           revenue|              tax|\n",
      "+------------------+-----------------+\n",
      "|             33.56|              7.3|\n",
      "|              61.2|             25.5|\n",
      "| 71.86842105263158|12.31578947368421|\n",
      "|27.116666666666664|            13.31|\n",
      "|               0.0|            15.91|\n",
      "+------------------+-----------------+\n",
      "only showing top 5 rows\n",
      "\n",
      "CPU times: user 4 ms, sys: 0 ns, total: 4 ms\n",
      "Wall time: 9.6 s\n"
     ]
    }
   ],
   "source": [
    "%time kpis.show(5)"
   ]
  },
  {
   "cell_type": "code",
   "execution_count": 6,
   "metadata": {},
   "outputs": [
    {
     "name": "stdout",
     "output_type": "stream",
     "text": [
      "+------------------+-----------------+\n",
      "|           revenue|              tax|\n",
      "+------------------+-----------------+\n",
      "|             33.56|              7.3|\n",
      "|              61.2|             25.5|\n",
      "| 71.86842105263158|12.31578947368421|\n",
      "|27.116666666666664|            13.31|\n",
      "|               0.0|            15.91|\n",
      "+------------------+-----------------+\n",
      "only showing top 5 rows\n",
      "\n",
      "CPU times: user 0 ns, sys: 4 ms, total: 4 ms\n",
      "Wall time: 149 ms\n"
     ]
    }
   ],
   "source": [
    "%time kpis.show(5)"
   ]
  },
  {
   "cell_type": "markdown",
   "metadata": {},
   "source": [
    "## Machine Learning in Spark\n",
    "\n",
    "### `spark.mllib` and `spark.ml`\n",
    "\n",
    "`spark.mllib` was the original Spark Machine Learning package. It is based on RDDs. It's now on maintenance mode.\n",
    "\n",
    "Since the focus on DataFrames, `spark.ml` is the primary ML package. It's designed around DataFrames. \n",
    "\n",
    "Somewhat confusingly, \"Spark MLLIB\" is the name of the library, and it comprises both.\n",
    "\n",
    "https://spark.apache.org/docs/2.2.1/ml-guide.html\n",
    "https://spark.apache.org/docs/2.2.1/api/python/pyspark.ml.html"
   ]
  },
  {
   "cell_type": "markdown",
   "metadata": {},
   "source": [
    "### Transformers, Estimators and Models\n",
    "\n",
    "In Spark ML, a Transformer is an object that represents a transformation from a DataFrame into another DataFrame.\n",
    "\n",
    "Many preprocessing and feature extraction steps are represented by Transformers. In general, this happens when they don't have to learn anything from the dataset itself, which means they implement the `transform` but not the `fit` method.\n",
    "\n",
    "When the transformation does depend on the dataset, the transformation is represented by an Estimator. An Estimator implements a `fit` method that generates a Model, which is a Transformer.\n",
    "\n",
    "All Machine Learning models are Estimators, and many feature extraction steps are as well.\n",
    "\n",
    "https://spark.apache.org/docs/2.2.0/ml-pipeline.html"
   ]
  },
  {
   "cell_type": "markdown",
   "metadata": {},
   "source": [
    "### Assemble features"
   ]
  },
  {
   "cell_type": "code",
   "execution_count": 7,
   "metadata": {
    "collapsed": true
   },
   "outputs": [
    {
     "name": "stdout",
     "output_type": "stream",
     "text": [
      "Help on class VectorAssembler in module pyspark.ml.feature:\n",
      "\n",
      "class VectorAssembler(pyspark.ml.wrapper.JavaTransformer, pyspark.ml.param.shared.HasInputCols, pyspark.ml.param.shared.HasOutputCol, pyspark.ml.util.JavaMLReadable, pyspark.ml.util.JavaMLWritable)\n",
      " |  A feature transformer that merges multiple columns into a vector column.\n",
      " |  \n",
      " |  >>> df = spark.createDataFrame([(1, 0, 3)], [\"a\", \"b\", \"c\"])\n",
      " |  >>> vecAssembler = VectorAssembler(inputCols=[\"a\", \"b\", \"c\"], outputCol=\"features\")\n",
      " |  >>> vecAssembler.transform(df).head().features\n",
      " |  DenseVector([1.0, 0.0, 3.0])\n",
      " |  >>> vecAssembler.setParams(outputCol=\"freqs\").transform(df).head().freqs\n",
      " |  DenseVector([1.0, 0.0, 3.0])\n",
      " |  >>> params = {vecAssembler.inputCols: [\"b\", \"a\"], vecAssembler.outputCol: \"vector\"}\n",
      " |  >>> vecAssembler.transform(df, params).head().vector\n",
      " |  DenseVector([0.0, 1.0])\n",
      " |  >>> vectorAssemblerPath = temp_path + \"/vector-assembler\"\n",
      " |  >>> vecAssembler.save(vectorAssemblerPath)\n",
      " |  >>> loadedAssembler = VectorAssembler.load(vectorAssemblerPath)\n",
      " |  >>> loadedAssembler.transform(df).head().freqs == vecAssembler.transform(df).head().freqs\n",
      " |  True\n",
      " |  \n",
      " |  .. versionadded:: 1.4.0\n",
      " |  \n",
      " |  Method resolution order:\n",
      " |      VectorAssembler\n",
      " |      pyspark.ml.wrapper.JavaTransformer\n",
      " |      pyspark.ml.wrapper.JavaParams\n",
      " |      pyspark.ml.wrapper.JavaWrapper\n",
      " |      pyspark.ml.base.Transformer\n",
      " |      pyspark.ml.param.shared.HasInputCols\n",
      " |      pyspark.ml.param.shared.HasOutputCol\n",
      " |      pyspark.ml.param.Params\n",
      " |      pyspark.ml.util.Identifiable\n",
      " |      pyspark.ml.util.JavaMLReadable\n",
      " |      pyspark.ml.util.MLReadable\n",
      " |      pyspark.ml.util.JavaMLWritable\n",
      " |      pyspark.ml.util.MLWritable\n",
      " |      builtins.object\n",
      " |  \n",
      " |  Methods defined here:\n",
      " |  \n",
      " |  __init__(self, inputCols=None, outputCol=None)\n",
      " |      __init__(self, inputCols=None, outputCol=None)\n",
      " |  \n",
      " |  setParams(self, inputCols=None, outputCol=None)\n",
      " |      setParams(self, inputCols=None, outputCol=None)\n",
      " |      Sets params for this VectorAssembler.\n",
      " |      \n",
      " |      .. versionadded:: 1.4.0\n",
      " |  \n",
      " |  ----------------------------------------------------------------------\n",
      " |  Data and other attributes inherited from pyspark.ml.wrapper.JavaTransformer:\n",
      " |  \n",
      " |  __metaclass__ = <class 'abc.ABCMeta'>\n",
      " |      Metaclass for defining Abstract Base Classes (ABCs).\n",
      " |      \n",
      " |      Use this metaclass to create an ABC.  An ABC can be subclassed\n",
      " |      directly, and then acts as a mix-in class.  You can also register\n",
      " |      unrelated concrete classes (even built-in classes) and unrelated\n",
      " |      ABCs as 'virtual subclasses' -- these and their descendants will\n",
      " |      be considered subclasses of the registering ABC by the built-in\n",
      " |      issubclass() function, but the registering ABC won't show up in\n",
      " |      their MRO (Method Resolution Order) nor will method\n",
      " |      implementations defined by the registering ABC be callable (not\n",
      " |      even via super()).\n",
      " |  \n",
      " |  ----------------------------------------------------------------------\n",
      " |  Methods inherited from pyspark.ml.wrapper.JavaParams:\n",
      " |  \n",
      " |  __del__(self)\n",
      " |  \n",
      " |  copy(self, extra=None)\n",
      " |      Creates a copy of this instance with the same uid and some\n",
      " |      extra params. This implementation first calls Params.copy and\n",
      " |      then make a copy of the companion Java pipeline component with\n",
      " |      extra params. So both the Python wrapper and the Java pipeline\n",
      " |      component get copied.\n",
      " |      \n",
      " |      :param extra: Extra parameters to copy to the new instance\n",
      " |      :return: Copy of this instance\n",
      " |  \n",
      " |  ----------------------------------------------------------------------\n",
      " |  Data descriptors inherited from pyspark.ml.wrapper.JavaWrapper:\n",
      " |  \n",
      " |  __dict__\n",
      " |      dictionary for instance variables (if defined)\n",
      " |  \n",
      " |  __weakref__\n",
      " |      list of weak references to the object (if defined)\n",
      " |  \n",
      " |  ----------------------------------------------------------------------\n",
      " |  Methods inherited from pyspark.ml.base.Transformer:\n",
      " |  \n",
      " |  transform(self, dataset, params=None)\n",
      " |      Transforms the input dataset with optional parameters.\n",
      " |      \n",
      " |      :param dataset: input dataset, which is an instance of :py:class:`pyspark.sql.DataFrame`\n",
      " |      :param params: an optional param map that overrides embedded params.\n",
      " |      :returns: transformed dataset\n",
      " |      \n",
      " |      .. versionadded:: 1.3.0\n",
      " |  \n",
      " |  ----------------------------------------------------------------------\n",
      " |  Methods inherited from pyspark.ml.param.shared.HasInputCols:\n",
      " |  \n",
      " |  getInputCols(self)\n",
      " |      Gets the value of inputCols or its default value.\n",
      " |  \n",
      " |  setInputCols(self, value)\n",
      " |      Sets the value of :py:attr:`inputCols`.\n",
      " |  \n",
      " |  ----------------------------------------------------------------------\n",
      " |  Data and other attributes inherited from pyspark.ml.param.shared.HasInputCols:\n",
      " |  \n",
      " |  inputCols = Param(parent='undefined', name='inputCols', doc='input col...\n",
      " |  \n",
      " |  ----------------------------------------------------------------------\n",
      " |  Methods inherited from pyspark.ml.param.shared.HasOutputCol:\n",
      " |  \n",
      " |  getOutputCol(self)\n",
      " |      Gets the value of outputCol or its default value.\n",
      " |  \n",
      " |  setOutputCol(self, value)\n",
      " |      Sets the value of :py:attr:`outputCol`.\n",
      " |  \n",
      " |  ----------------------------------------------------------------------\n",
      " |  Data and other attributes inherited from pyspark.ml.param.shared.HasOutputCol:\n",
      " |  \n",
      " |  outputCol = Param(parent='undefined', name='outputCol', doc='output co...\n",
      " |  \n",
      " |  ----------------------------------------------------------------------\n",
      " |  Methods inherited from pyspark.ml.param.Params:\n",
      " |  \n",
      " |  explainParam(self, param)\n",
      " |      Explains a single param and returns its name, doc, and optional\n",
      " |      default value and user-supplied value in a string.\n",
      " |  \n",
      " |  explainParams(self)\n",
      " |      Returns the documentation of all params with their optionally\n",
      " |      default values and user-supplied values.\n",
      " |  \n",
      " |  extractParamMap(self, extra=None)\n",
      " |      Extracts the embedded default param values and user-supplied\n",
      " |      values, and then merges them with extra values from input into\n",
      " |      a flat param map, where the latter value is used if there exist\n",
      " |      conflicts, i.e., with ordering: default param values <\n",
      " |      user-supplied values < extra.\n",
      " |      \n",
      " |      :param extra: extra param values\n",
      " |      :return: merged param map\n",
      " |  \n",
      " |  getOrDefault(self, param)\n",
      " |      Gets the value of a param in the user-supplied param map or its\n",
      " |      default value. Raises an error if neither is set.\n",
      " |  \n",
      " |  getParam(self, paramName)\n",
      " |      Gets a param by its name.\n",
      " |  \n",
      " |  hasDefault(self, param)\n",
      " |      Checks whether a param has a default value.\n",
      " |  \n",
      " |  hasParam(self, paramName)\n",
      " |      Tests whether this instance contains a param with a given\n",
      " |      (string) name.\n",
      " |  \n",
      " |  isDefined(self, param)\n",
      " |      Checks whether a param is explicitly set by user or has\n",
      " |      a default value.\n",
      " |  \n",
      " |  isSet(self, param)\n",
      " |      Checks whether a param is explicitly set by user.\n",
      " |  \n",
      " |  set(self, param, value)\n",
      " |      Sets a parameter in the embedded param map.\n",
      " |  \n",
      " |  ----------------------------------------------------------------------\n",
      " |  Data descriptors inherited from pyspark.ml.param.Params:\n",
      " |  \n",
      " |  params\n",
      " |      Returns all params ordered by name. The default implementation\n",
      " |      uses :py:func:`dir` to get all attributes of type\n",
      " |      :py:class:`Param`.\n",
      " |  \n",
      " |  ----------------------------------------------------------------------\n",
      " |  Methods inherited from pyspark.ml.util.Identifiable:\n",
      " |  \n",
      " |  __repr__(self)\n",
      " |      Return repr(self).\n",
      " |  \n",
      " |  ----------------------------------------------------------------------\n",
      " |  Class methods inherited from pyspark.ml.util.JavaMLReadable:\n",
      " |  \n",
      " |  read() from builtins.type\n",
      " |      Returns an MLReader instance for this class.\n",
      " |  \n",
      " |  ----------------------------------------------------------------------\n",
      " |  Class methods inherited from pyspark.ml.util.MLReadable:\n",
      " |  \n",
      " |  load(path) from builtins.type\n",
      " |      Reads an ML instance from the input path, a shortcut of `read().load(path)`.\n",
      " |  \n",
      " |  ----------------------------------------------------------------------\n",
      " |  Methods inherited from pyspark.ml.util.JavaMLWritable:\n",
      " |  \n",
      " |  write(self)\n",
      " |      Returns an MLWriter instance for this ML instance.\n",
      " |  \n",
      " |  ----------------------------------------------------------------------\n",
      " |  Methods inherited from pyspark.ml.util.MLWritable:\n",
      " |  \n",
      " |  save(self, path)\n",
      " |      Save this ML instance to the given path, a shortcut of 'write().save(path)'.\n",
      "\n"
     ]
    }
   ],
   "source": [
    "from pyspark.ml.feature import VectorAssembler\n",
    "\n",
    "help(VectorAssembler)"
   ]
  },
  {
   "cell_type": "code",
   "execution_count": 9,
   "metadata": {
    "collapsed": true
   },
   "outputs": [],
   "source": [
    "assembler = VectorAssembler(inputCols=['revenue', 'tax'], outputCol='features')\n"
   ]
  },
  {
   "cell_type": "code",
   "execution_count": 15,
   "metadata": {},
   "outputs": [
    {
     "name": "stdout",
     "output_type": "stream",
     "text": [
      "+------------------+-----------------+--------------------+\n",
      "|           revenue|              tax|            features|\n",
      "+------------------+-----------------+--------------------+\n",
      "|             33.56|              7.3|         [33.56,7.3]|\n",
      "|              61.2|             25.5|         [61.2,25.5]|\n",
      "| 71.86842105263158|12.31578947368421|[71.8684210526315...|\n",
      "|27.116666666666664|            13.31|[27.1166666666666...|\n",
      "|               0.0|            15.91|         [0.0,15.91]|\n",
      "+------------------+-----------------+--------------------+\n",
      "only showing top 5 rows\n",
      "\n"
     ]
    }
   ],
   "source": [
    "newdf = assembler.transform(kpis)\n",
    "newdf.show(5)"
   ]
  },
  {
   "cell_type": "code",
   "execution_count": 11,
   "metadata": {
    "collapsed": true
   },
   "outputs": [
    {
     "ename": "IllegalArgumentException",
     "evalue": "'Field \"revenue\" does not exist.'",
     "output_type": "error",
     "traceback": [
      "\u001b[0;31m---------------------------------------------------------------------------\u001b[0m",
      "\u001b[0;31mPy4JJavaError\u001b[0m                             Traceback (most recent call last)",
      "\u001b[0;32m/usr/local/spark/python/pyspark/sql/utils.py\u001b[0m in \u001b[0;36mdeco\u001b[0;34m(*a, **kw)\u001b[0m\n\u001b[1;32m     62\u001b[0m         \u001b[0;32mtry\u001b[0m\u001b[0;34m:\u001b[0m\u001b[0;34m\u001b[0m\u001b[0m\n\u001b[0;32m---> 63\u001b[0;31m             \u001b[0;32mreturn\u001b[0m \u001b[0mf\u001b[0m\u001b[0;34m(\u001b[0m\u001b[0;34m*\u001b[0m\u001b[0ma\u001b[0m\u001b[0;34m,\u001b[0m \u001b[0;34m**\u001b[0m\u001b[0mkw\u001b[0m\u001b[0;34m)\u001b[0m\u001b[0;34m\u001b[0m\u001b[0m\n\u001b[0m\u001b[1;32m     64\u001b[0m         \u001b[0;32mexcept\u001b[0m \u001b[0mpy4j\u001b[0m\u001b[0;34m.\u001b[0m\u001b[0mprotocol\u001b[0m\u001b[0;34m.\u001b[0m\u001b[0mPy4JJavaError\u001b[0m \u001b[0;32mas\u001b[0m \u001b[0me\u001b[0m\u001b[0;34m:\u001b[0m\u001b[0;34m\u001b[0m\u001b[0m\n",
      "\u001b[0;32m/usr/local/spark/python/lib/py4j-0.10.6-src.zip/py4j/protocol.py\u001b[0m in \u001b[0;36mget_return_value\u001b[0;34m(answer, gateway_client, target_id, name)\u001b[0m\n\u001b[1;32m    319\u001b[0m                     \u001b[0;34m\"An error occurred while calling {0}{1}{2}.\\n\"\u001b[0m\u001b[0;34m.\u001b[0m\u001b[0;34m\u001b[0m\u001b[0m\n\u001b[0;32m--> 320\u001b[0;31m                     format(target_id, \".\", name), value)\n\u001b[0m\u001b[1;32m    321\u001b[0m             \u001b[0;32melse\u001b[0m\u001b[0;34m:\u001b[0m\u001b[0;34m\u001b[0m\u001b[0m\n",
      "\u001b[0;31mPy4JJavaError\u001b[0m: An error occurred while calling o57.transform.\n: java.lang.IllegalArgumentException: Field \"revenue\" does not exist.\n\tat org.apache.spark.sql.types.StructType$$anonfun$apply$1.apply(StructType.scala:267)\n\tat org.apache.spark.sql.types.StructType$$anonfun$apply$1.apply(StructType.scala:267)\n\tat scala.collection.MapLike$class.getOrElse(MapLike.scala:128)\n\tat scala.collection.AbstractMap.getOrElse(Map.scala:59)\n\tat org.apache.spark.sql.types.StructType.apply(StructType.scala:266)\n\tat org.apache.spark.ml.feature.VectorAssembler$$anonfun$5.apply(VectorAssembler.scala:117)\n\tat org.apache.spark.ml.feature.VectorAssembler$$anonfun$5.apply(VectorAssembler.scala:116)\n\tat scala.collection.TraversableLike$$anonfun$flatMap$1.apply(TraversableLike.scala:241)\n\tat scala.collection.TraversableLike$$anonfun$flatMap$1.apply(TraversableLike.scala:241)\n\tat scala.collection.IndexedSeqOptimized$class.foreach(IndexedSeqOptimized.scala:33)\n\tat scala.collection.mutable.ArrayOps$ofRef.foreach(ArrayOps.scala:186)\n\tat scala.collection.TraversableLike$class.flatMap(TraversableLike.scala:241)\n\tat scala.collection.mutable.ArrayOps$ofRef.flatMap(ArrayOps.scala:186)\n\tat org.apache.spark.ml.feature.VectorAssembler.transformSchema(VectorAssembler.scala:116)\n\tat org.apache.spark.ml.PipelineStage.transformSchema(Pipeline.scala:74)\n\tat org.apache.spark.ml.feature.VectorAssembler.transform(VectorAssembler.scala:54)\n\tat sun.reflect.NativeMethodAccessorImpl.invoke0(Native Method)\n\tat sun.reflect.NativeMethodAccessorImpl.invoke(NativeMethodAccessorImpl.java:62)\n\tat sun.reflect.DelegatingMethodAccessorImpl.invoke(DelegatingMethodAccessorImpl.java:43)\n\tat java.lang.reflect.Method.invoke(Method.java:498)\n\tat py4j.reflection.MethodInvoker.invoke(MethodInvoker.java:244)\n\tat py4j.reflection.ReflectionEngine.invoke(ReflectionEngine.java:357)\n\tat py4j.Gateway.invoke(Gateway.java:282)\n\tat py4j.commands.AbstractCommand.invokeMethod(AbstractCommand.java:132)\n\tat py4j.commands.CallCommand.execute(CallCommand.java:79)\n\tat py4j.GatewayConnection.run(GatewayConnection.java:214)\n\tat java.lang.Thread.run(Thread.java:748)\n",
      "\nDuring handling of the above exception, another exception occurred:\n",
      "\u001b[0;31mIllegalArgumentException\u001b[0m                  Traceback (most recent call last)",
      "\u001b[0;32m<ipython-input-11-a1405c42b5f3>\u001b[0m in \u001b[0;36m<module>\u001b[0;34m()\u001b[0m\n\u001b[0;32m----> 1\u001b[0;31m \u001b[0mnewdf\u001b[0m \u001b[0;34m=\u001b[0m \u001b[0massembler\u001b[0m\u001b[0;34m.\u001b[0m\u001b[0mtransform\u001b[0m\u001b[0;34m(\u001b[0m\u001b[0mdf\u001b[0m\u001b[0;34m)\u001b[0m\u001b[0;34m\u001b[0m\u001b[0m\n\u001b[0m",
      "\u001b[0;32m/usr/local/spark/python/pyspark/ml/base.py\u001b[0m in \u001b[0;36mtransform\u001b[0;34m(self, dataset, params)\u001b[0m\n\u001b[1;32m    171\u001b[0m                 \u001b[0;32mreturn\u001b[0m \u001b[0mself\u001b[0m\u001b[0;34m.\u001b[0m\u001b[0mcopy\u001b[0m\u001b[0;34m(\u001b[0m\u001b[0mparams\u001b[0m\u001b[0;34m)\u001b[0m\u001b[0;34m.\u001b[0m\u001b[0m_transform\u001b[0m\u001b[0;34m(\u001b[0m\u001b[0mdataset\u001b[0m\u001b[0;34m)\u001b[0m\u001b[0;34m\u001b[0m\u001b[0m\n\u001b[1;32m    172\u001b[0m             \u001b[0;32melse\u001b[0m\u001b[0;34m:\u001b[0m\u001b[0;34m\u001b[0m\u001b[0m\n\u001b[0;32m--> 173\u001b[0;31m                 \u001b[0;32mreturn\u001b[0m \u001b[0mself\u001b[0m\u001b[0;34m.\u001b[0m\u001b[0m_transform\u001b[0m\u001b[0;34m(\u001b[0m\u001b[0mdataset\u001b[0m\u001b[0;34m)\u001b[0m\u001b[0;34m\u001b[0m\u001b[0m\n\u001b[0m\u001b[1;32m    174\u001b[0m         \u001b[0;32melse\u001b[0m\u001b[0;34m:\u001b[0m\u001b[0;34m\u001b[0m\u001b[0m\n\u001b[1;32m    175\u001b[0m             \u001b[0;32mraise\u001b[0m \u001b[0mValueError\u001b[0m\u001b[0;34m(\u001b[0m\u001b[0;34m\"Params must be a param map but got %s.\"\u001b[0m \u001b[0;34m%\u001b[0m \u001b[0mtype\u001b[0m\u001b[0;34m(\u001b[0m\u001b[0mparams\u001b[0m\u001b[0;34m)\u001b[0m\u001b[0;34m)\u001b[0m\u001b[0;34m\u001b[0m\u001b[0m\n",
      "\u001b[0;32m/usr/local/spark/python/pyspark/ml/wrapper.py\u001b[0m in \u001b[0;36m_transform\u001b[0;34m(self, dataset)\u001b[0m\n\u001b[1;32m    303\u001b[0m     \u001b[0;32mdef\u001b[0m \u001b[0m_transform\u001b[0m\u001b[0;34m(\u001b[0m\u001b[0mself\u001b[0m\u001b[0;34m,\u001b[0m \u001b[0mdataset\u001b[0m\u001b[0;34m)\u001b[0m\u001b[0;34m:\u001b[0m\u001b[0;34m\u001b[0m\u001b[0m\n\u001b[1;32m    304\u001b[0m         \u001b[0mself\u001b[0m\u001b[0;34m.\u001b[0m\u001b[0m_transfer_params_to_java\u001b[0m\u001b[0;34m(\u001b[0m\u001b[0;34m)\u001b[0m\u001b[0;34m\u001b[0m\u001b[0m\n\u001b[0;32m--> 305\u001b[0;31m         \u001b[0;32mreturn\u001b[0m \u001b[0mDataFrame\u001b[0m\u001b[0;34m(\u001b[0m\u001b[0mself\u001b[0m\u001b[0;34m.\u001b[0m\u001b[0m_java_obj\u001b[0m\u001b[0;34m.\u001b[0m\u001b[0mtransform\u001b[0m\u001b[0;34m(\u001b[0m\u001b[0mdataset\u001b[0m\u001b[0;34m.\u001b[0m\u001b[0m_jdf\u001b[0m\u001b[0;34m)\u001b[0m\u001b[0;34m,\u001b[0m \u001b[0mdataset\u001b[0m\u001b[0;34m.\u001b[0m\u001b[0msql_ctx\u001b[0m\u001b[0;34m)\u001b[0m\u001b[0;34m\u001b[0m\u001b[0m\n\u001b[0m\u001b[1;32m    306\u001b[0m \u001b[0;34m\u001b[0m\u001b[0m\n\u001b[1;32m    307\u001b[0m \u001b[0;34m\u001b[0m\u001b[0m\n",
      "\u001b[0;32m/usr/local/spark/python/lib/py4j-0.10.6-src.zip/py4j/java_gateway.py\u001b[0m in \u001b[0;36m__call__\u001b[0;34m(self, *args)\u001b[0m\n\u001b[1;32m   1158\u001b[0m         \u001b[0manswer\u001b[0m \u001b[0;34m=\u001b[0m \u001b[0mself\u001b[0m\u001b[0;34m.\u001b[0m\u001b[0mgateway_client\u001b[0m\u001b[0;34m.\u001b[0m\u001b[0msend_command\u001b[0m\u001b[0;34m(\u001b[0m\u001b[0mcommand\u001b[0m\u001b[0;34m)\u001b[0m\u001b[0;34m\u001b[0m\u001b[0m\n\u001b[1;32m   1159\u001b[0m         return_value = get_return_value(\n\u001b[0;32m-> 1160\u001b[0;31m             answer, self.gateway_client, self.target_id, self.name)\n\u001b[0m\u001b[1;32m   1161\u001b[0m \u001b[0;34m\u001b[0m\u001b[0m\n\u001b[1;32m   1162\u001b[0m         \u001b[0;32mfor\u001b[0m \u001b[0mtemp_arg\u001b[0m \u001b[0;32min\u001b[0m \u001b[0mtemp_args\u001b[0m\u001b[0;34m:\u001b[0m\u001b[0;34m\u001b[0m\u001b[0m\n",
      "\u001b[0;32m/usr/local/spark/python/pyspark/sql/utils.py\u001b[0m in \u001b[0;36mdeco\u001b[0;34m(*a, **kw)\u001b[0m\n\u001b[1;32m     77\u001b[0m                 \u001b[0;32mraise\u001b[0m \u001b[0mQueryExecutionException\u001b[0m\u001b[0;34m(\u001b[0m\u001b[0ms\u001b[0m\u001b[0;34m.\u001b[0m\u001b[0msplit\u001b[0m\u001b[0;34m(\u001b[0m\u001b[0;34m': '\u001b[0m\u001b[0;34m,\u001b[0m \u001b[0;36m1\u001b[0m\u001b[0;34m)\u001b[0m\u001b[0;34m[\u001b[0m\u001b[0;36m1\u001b[0m\u001b[0;34m]\u001b[0m\u001b[0;34m,\u001b[0m \u001b[0mstackTrace\u001b[0m\u001b[0;34m)\u001b[0m\u001b[0;34m\u001b[0m\u001b[0m\n\u001b[1;32m     78\u001b[0m             \u001b[0;32mif\u001b[0m \u001b[0ms\u001b[0m\u001b[0;34m.\u001b[0m\u001b[0mstartswith\u001b[0m\u001b[0;34m(\u001b[0m\u001b[0;34m'java.lang.IllegalArgumentException: '\u001b[0m\u001b[0;34m)\u001b[0m\u001b[0;34m:\u001b[0m\u001b[0;34m\u001b[0m\u001b[0m\n\u001b[0;32m---> 79\u001b[0;31m                 \u001b[0;32mraise\u001b[0m \u001b[0mIllegalArgumentException\u001b[0m\u001b[0;34m(\u001b[0m\u001b[0ms\u001b[0m\u001b[0;34m.\u001b[0m\u001b[0msplit\u001b[0m\u001b[0;34m(\u001b[0m\u001b[0;34m': '\u001b[0m\u001b[0;34m,\u001b[0m \u001b[0;36m1\u001b[0m\u001b[0;34m)\u001b[0m\u001b[0;34m[\u001b[0m\u001b[0;36m1\u001b[0m\u001b[0;34m]\u001b[0m\u001b[0;34m,\u001b[0m \u001b[0mstackTrace\u001b[0m\u001b[0;34m)\u001b[0m\u001b[0;34m\u001b[0m\u001b[0m\n\u001b[0m\u001b[1;32m     80\u001b[0m             \u001b[0;32mraise\u001b[0m\u001b[0;34m\u001b[0m\u001b[0m\n\u001b[1;32m     81\u001b[0m     \u001b[0;32mreturn\u001b[0m \u001b[0mdeco\u001b[0m\u001b[0;34m\u001b[0m\u001b[0m\n",
      "\u001b[0;31mIllegalArgumentException\u001b[0m: 'Field \"revenue\" does not exist.'"
     ]
    }
   ],
   "source": [
    "error = assembler.transform(df)"
   ]
  },
  {
   "cell_type": "markdown",
   "metadata": {},
   "source": [
    "### Training our model\n",
    "\n",
    "Just like in sklearn, we use a `.fit` method. The difference is that Estimators are stateless: the software object we call kmeans doesn't learn, that is, it doesn't change its state like sklearn models do (remember the underscore-suffixed attributes of sklearn models, which are generated from the data). \n",
    "\n",
    "What it does is generate a new object, the one we call model, which is a Transformer. This object contains the information necessary to `.transform` our data, which is the method name spark.ml uses in place of `.predict`."
   ]
  },
  {
   "cell_type": "code",
   "execution_count": null,
   "metadata": {
    "collapsed": true
   },
   "outputs": [],
   "source": [
    "from sklearn.cluster import KMeans"
   ]
  },
  {
   "cell_type": "code",
   "execution_count": 14,
   "metadata": {
    "collapsed": true
   },
   "outputs": [],
   "source": [
    "from pyspark.ml.clustering import KMeans\n",
    "\n",
    "km_estimator = KMeans(k=8)"
   ]
  },
  {
   "cell_type": "code",
   "execution_count": 17,
   "metadata": {
    "collapsed": true
   },
   "outputs": [],
   "source": [
    "km_model = km_estimator.fit(newdf)"
   ]
  },
  {
   "cell_type": "markdown",
   "metadata": {},
   "source": [
    "### Assigning clusters\n",
    "\n"
   ]
  },
  {
   "cell_type": "code",
   "execution_count": 18,
   "metadata": {
    "collapsed": true
   },
   "outputs": [],
   "source": [
    "predicted = km_model.transform(newdf)"
   ]
  },
  {
   "cell_type": "code",
   "execution_count": 26,
   "metadata": {},
   "outputs": [
    {
     "name": "stdout",
     "output_type": "stream",
     "text": [
      "+------------------+-----------------+--------------------+----------+\n",
      "|           revenue|              tax|            features|prediction|\n",
      "+------------------+-----------------+--------------------+----------+\n",
      "|             33.56|              7.3|         [33.56,7.3]|         0|\n",
      "|              61.2|             25.5|         [61.2,25.5]|         0|\n",
      "| 71.86842105263158|12.31578947368421|[71.8684210526315...|         0|\n",
      "|27.116666666666664|            13.31|[27.1166666666666...|         0|\n",
      "|               0.0|            15.91|         [0.0,15.91]|         0|\n",
      "|            24.802|            12.48|      [24.802,12.48]|         0|\n",
      "|           18.4275|            11.98|     [18.4275,11.98]|         0|\n",
      "|              65.5|             13.0|         [65.5,13.0]|         0|\n",
      "|               0.0|            15.76|         [0.0,15.76]|         0|\n",
      "|              99.5|             13.0|         [99.5,13.0]|         0|\n",
      "|              49.7|            10.78|        [49.7,10.78]|         0|\n",
      "|              65.5|             13.0|         [65.5,13.0]|         0|\n",
      "|               0.0|             7.41|          [0.0,7.41]|         0|\n",
      "|              65.5|             13.0|         [65.5,13.0]|         0|\n",
      "|              44.0|             25.5|         [44.0,25.5]|         0|\n",
      "|              53.7|             25.5|         [53.7,25.5]|         0|\n",
      "|            14.865|             7.41|       [14.865,7.41]|         0|\n",
      "|             30.72|            13.42|       [30.72,13.42]|         0|\n",
      "|            38.975|            17.03|      [38.975,17.03]|         0|\n",
      "|              65.5|             13.0|         [65.5,13.0]|         0|\n",
      "+------------------+-----------------+--------------------+----------+\n",
      "only showing top 20 rows\n",
      "\n"
     ]
    }
   ],
   "source": [
    "predicted.show()"
   ]
  },
  {
   "cell_type": "code",
   "execution_count": 25,
   "metadata": {},
   "outputs": [
    {
     "name": "stdout",
     "output_type": "stream",
     "text": [
      "+----------+-------+\n",
      "|prediction|  count|\n",
      "+----------+-------+\n",
      "|         1|     10|\n",
      "|         6|     16|\n",
      "|         3|     94|\n",
      "|         5|      1|\n",
      "|         4| 206315|\n",
      "|         7|     46|\n",
      "|         2|      8|\n",
      "|         0|1252631|\n",
      "+----------+-------+\n",
      "\n"
     ]
    }
   ],
   "source": [
    "predicted.groupby('prediction').count().show()"
   ]
  },
  {
   "cell_type": "code",
   "execution_count": 33,
   "metadata": {
    "collapsed": true
   },
   "outputs": [],
   "source": [
    "from pyspark.ml.clustering import GaussianMixture\n",
    "\n",
    "gm_estimator = GaussianMixture(k=8)\n",
    "gm_model = gm_estimator.fit(newdf)"
   ]
  },
  {
   "cell_type": "code",
   "execution_count": 34,
   "metadata": {
    "collapsed": true
   },
   "outputs": [],
   "source": [
    "predicted_by_gm = gm_model.transform(newdf)"
   ]
  },
  {
   "cell_type": "code",
   "execution_count": 35,
   "metadata": {},
   "outputs": [
    {
     "name": "stdout",
     "output_type": "stream",
     "text": [
      "+------------------+-----------------+--------------------+----------+--------------------+\n",
      "|           revenue|              tax|            features|prediction|         probability|\n",
      "+------------------+-----------------+--------------------+----------+--------------------+\n",
      "|             33.56|              7.3|         [33.56,7.3]|         7|[5.12166583175723...|\n",
      "|              61.2|             25.5|         [61.2,25.5]|         7|[2.76464369166838...|\n",
      "| 71.86842105263158|12.31578947368421|[71.8684210526315...|         7|[3.83518157333207...|\n",
      "|27.116666666666664|            13.31|[27.1166666666666...|         7|[3.66807210656433...|\n",
      "|               0.0|            15.91|         [0.0,15.91]|         7|[3.31910581107735...|\n",
      "+------------------+-----------------+--------------------+----------+--------------------+\n",
      "only showing top 5 rows\n",
      "\n"
     ]
    }
   ],
   "source": [
    "predicted_by_gm.show(5)"
   ]
  },
  {
   "cell_type": "markdown",
   "metadata": {},
   "source": [
    "### Z scores\n",
    "\n",
    "Now we only need to calculate a z-score, so that we can score points as outliers or not outliers.\n",
    "\n",
    "For that, we need the per-cluster mean and stddev for each of the variables."
   ]
  },
  {
   "cell_type": "markdown",
   "metadata": {},
   "source": [
    "Group by cluster and extract mean and stddev for each revenue and tax"
   ]
  },
  {
   "cell_type": "code",
   "execution_count": 41,
   "metadata": {
    "collapsed": true
   },
   "outputs": [],
   "source": [
    "from pyspark.sql import functions\n",
    "\n",
    "\n",
    "stats = predicted.groupby('prediction').agg(\n",
    "    functions.mean('revenue').alias('rev_mean'),\n",
    "    functions.stddev_pop('revenue').alias('rev_std'), \n",
    "    functions.mean('tax').alias('tax_mean'),\n",
    "    functions.stddev_pop('tax').alias('tax_std'))"
   ]
  },
  {
   "cell_type": "code",
   "execution_count": 42,
   "metadata": {},
   "outputs": [
    {
     "name": "stdout",
     "output_type": "stream",
     "text": [
      "+----------+------------------+------------------+------------------+------------------+\n",
      "|prediction|          rev_mean|           rev_std|          tax_mean|           tax_std|\n",
      "+----------+------------------+------------------+------------------+------------------+\n",
      "|         1|        877500.428|47658.199670890375|            30.302|1.7160000000000009|\n",
      "|         6|     346736.735625|50794.747140465224|        102.778125|109.26187980139449|\n",
      "|         3|112648.22446808493|21865.591086967204|21.289148936170214|  65.4898733873945|\n",
      "|         5|        1392155.74|               0.0|             32.74|               0.0|\n",
      "|         4| 645.9299953453474|430.98050517008596| 196.1818345096953| 54.03053016342896|\n",
      "|         7| 45129.63035326088|13057.356812793236|  33.6526902173913| 34.58159254084214|\n",
      "|         2| 615206.9512499999| 49736.26150524648|29.731249999999996|1.4425016247824463|\n",
      "|         0|135.21068393877343| 96.48911088062042| 78.54906955864386| 79.43527734175191|\n",
      "+----------+------------------+------------------+------------------+------------------+\n",
      "\n"
     ]
    }
   ],
   "source": [
    "stats.show()"
   ]
  },
  {
   "cell_type": "markdown",
   "metadata": {},
   "source": [
    "Join the aggregated results with the original DataFrame"
   ]
  },
  {
   "cell_type": "code",
   "execution_count": 51,
   "metadata": {},
   "outputs": [
    {
     "name": "stdout",
     "output_type": "stream",
     "text": [
      "+---------+------+------------------+----------+----------+-------------+------------------+----------+------------------+\n",
      "|  revenue|   tax|          features|prediction|prediction|     rev_mean|           rev_std|  tax_mean|           tax_std|\n",
      "+---------+------+------------------+----------+----------+-------------+------------------+----------+------------------+\n",
      "|847802.25| 29.73| [847802.25,29.73]|         1|         1|   877500.428|47658.199670890375|    30.302|1.7160000000000009|\n",
      "|847758.72| 29.73| [847758.72,29.73]|         1|         1|   877500.428|47658.199670890375|    30.302|1.7160000000000009|\n",
      "|965533.97| 29.73| [965533.97,29.73]|         1|         1|   877500.428|47658.199670890375|    30.302|1.7160000000000009|\n",
      "|847758.72| 29.73| [847758.72,29.73]|         1|         1|   877500.428|47658.199670890375|    30.302|1.7160000000000009|\n",
      "|847802.25| 29.73| [847802.25,29.73]|         1|         1|   877500.428|47658.199670890375|    30.302|1.7160000000000009|\n",
      "|847758.72| 29.73| [847758.72,29.73]|         1|         1|   877500.428|47658.199670890375|    30.302|1.7160000000000009|\n",
      "|965533.97| 29.73| [965533.97,29.73]|         1|         1|   877500.428|47658.199670890375|    30.302|1.7160000000000009|\n",
      "|847758.72| 29.73| [847758.72,29.73]|         1|         1|   877500.428|47658.199670890375|    30.302|1.7160000000000009|\n",
      "|847758.72| 29.73| [847758.72,29.73]|         1|         1|   877500.428|47658.199670890375|    30.302|1.7160000000000009|\n",
      "|909538.24| 35.45| [909538.24,35.45]|         1|         1|   877500.428|47658.199670890375|    30.302|1.7160000000000009|\n",
      "|378933.97| 17.51| [378933.97,17.51]|         6|         6|346736.735625|50794.747140465224|102.778125|109.26187980139449|\n",
      "|359138.45| 29.73| [359138.45,29.73]|         6|         6|346736.735625|50794.747140465224|102.778125|109.26187980139449|\n",
      "|468033.46| 29.73| [468033.46,29.73]|         6|         6|346736.735625|50794.747140465224|102.778125|109.26187980139449|\n",
      "|262794.39|  30.0|  [262794.39,30.0]|         6|         6|346736.735625|50794.747140465224|102.778125|109.26187980139449|\n",
      "|359131.55| 29.73| [359131.55,29.73]|         6|         6|346736.735625|50794.747140465224|102.778125|109.26187980139449|\n",
      "|305759.63|177.68|[305759.63,177.68]|         6|         6|346736.735625|50794.747140465224|102.778125|109.26187980139449|\n",
      "|400477.76|425.24|[400477.76,425.24]|         6|         6|346736.735625|50794.747140465224|102.778125|109.26187980139449|\n",
      "|339986.84|192.23|[339986.84,192.23]|         6|         6|346736.735625|50794.747140465224|102.778125|109.26187980139449|\n",
      "|359138.45| 29.73| [359138.45,29.73]|         6|         6|346736.735625|50794.747140465224|102.778125|109.26187980139449|\n",
      "|339986.84|192.23|[339986.84,192.23]|         6|         6|346736.735625|50794.747140465224|102.778125|109.26187980139449|\n",
      "+---------+------+------------------+----------+----------+-------------+------------------+----------+------------------+\n",
      "only showing top 20 rows\n",
      "\n"
     ]
    }
   ],
   "source": [
    "annotated = predicted.join(stats, on=predicted['prediction'] == stats['prediction'])\n",
    "annotated.show()"
   ]
  },
  {
   "cell_type": "code",
   "execution_count": 56,
   "metadata": {},
   "outputs": [
    {
     "name": "stdout",
     "output_type": "stream",
     "text": [
      "+----------+---------+-----+-----------------+----------+------------------+--------+------------------+\n",
      "|prediction|  revenue|  tax|         features|  rev_mean|           rev_std|tax_mean|           tax_std|\n",
      "+----------+---------+-----+-----------------+----------+------------------+--------+------------------+\n",
      "|         1|847802.25|29.73|[847802.25,29.73]|877500.428|47658.199670890375|  30.302|1.7160000000000009|\n",
      "|         1|847758.72|29.73|[847758.72,29.73]|877500.428|47658.199670890375|  30.302|1.7160000000000009|\n",
      "|         1|965533.97|29.73|[965533.97,29.73]|877500.428|47658.199670890375|  30.302|1.7160000000000009|\n",
      "|         1|847758.72|29.73|[847758.72,29.73]|877500.428|47658.199670890375|  30.302|1.7160000000000009|\n",
      "|         1|847802.25|29.73|[847802.25,29.73]|877500.428|47658.199670890375|  30.302|1.7160000000000009|\n",
      "+----------+---------+-----+-----------------+----------+------------------+--------+------------------+\n",
      "only showing top 5 rows\n",
      "\n"
     ]
    }
   ],
   "source": [
    "annotated = predicted.join(stats, on='prediction')\n",
    "annotated.show(5)"
   ]
  },
  {
   "cell_type": "markdown",
   "metadata": {},
   "source": [
    "And we are ready to do the arithmetic!"
   ]
  },
  {
   "cell_type": "code",
   "execution_count": 57,
   "metadata": {},
   "outputs": [
    {
     "name": "stdout",
     "output_type": "stream",
     "text": [
      "+----------+---------+------+------------------+-------------+------------------+----------+------------------+-------------------+\n",
      "|prediction|  revenue|   tax|          features|     rev_mean|           rev_std|  tax_mean|           tax_std|              z-rev|\n",
      "+----------+---------+------+------------------+-------------+------------------+----------+------------------+-------------------+\n",
      "|         1|847802.25| 29.73| [847802.25,29.73]|   877500.428|47658.199670890375|    30.302|1.7160000000000009|-0.6231493888792362|\n",
      "|         1|847758.72| 29.73| [847758.72,29.73]|   877500.428|47658.199670890375|    30.302|1.7160000000000009|-0.6240627679053142|\n",
      "|         1|965533.97| 29.73| [965533.97,29.73]|   877500.428|47658.199670890375|    30.302|1.7160000000000009|  1.847185638734291|\n",
      "|         1|847758.72| 29.73| [847758.72,29.73]|   877500.428|47658.199670890375|    30.302|1.7160000000000009|-0.6240627679053142|\n",
      "|         1|847802.25| 29.73| [847802.25,29.73]|   877500.428|47658.199670890375|    30.302|1.7160000000000009|-0.6231493888792362|\n",
      "|         1|847758.72| 29.73| [847758.72,29.73]|   877500.428|47658.199670890375|    30.302|1.7160000000000009|-0.6240627679053142|\n",
      "|         1|965533.97| 29.73| [965533.97,29.73]|   877500.428|47658.199670890375|    30.302|1.7160000000000009|  1.847185638734291|\n",
      "|         1|847758.72| 29.73| [847758.72,29.73]|   877500.428|47658.199670890375|    30.302|1.7160000000000009|-0.6240627679053142|\n",
      "|         1|847758.72| 29.73| [847758.72,29.73]|   877500.428|47658.199670890375|    30.302|1.7160000000000009|-0.6240627679053142|\n",
      "|         1|909538.24| 35.45| [909538.24,35.45]|   877500.428|47658.199670890375|    30.302|1.7160000000000009| 0.6722413398164666|\n",
      "|         6|378933.97| 17.51| [378933.97,17.51]|346736.735625|50794.747140465224|102.778125|109.26187980139449| 0.6338693701134764|\n",
      "|         6|359138.45| 29.73| [359138.45,29.73]|346736.735625|50794.747140465224|102.778125|109.26187980139449|0.24415348186900046|\n",
      "|         6|468033.46| 29.73| [468033.46,29.73]|346736.735625|50794.747140465224|102.778125|109.26187980139449| 2.3879777182387034|\n",
      "|         6|262794.39|  30.0|  [262794.39,30.0]|346736.735625|50794.747140465224|102.778125|109.26187980139449|-1.6525792596795499|\n",
      "|         6|359131.55| 29.73| [359131.55,29.73]|346736.735625|50794.747140465224|102.778125|109.26187980139449|0.24401764105103277|\n",
      "|         6|305759.63|177.68|[305759.63,177.68]|346736.735625|50794.747140465224|102.778125|109.26187980139449|-0.8067193544971087|\n",
      "|         6|400477.76|425.24|[400477.76,425.24]|346736.735625|50794.747140465224|102.778125|109.26187980139449|   1.05800358108659|\n",
      "|         6|339986.84|192.23|[339986.84,192.23]|346736.735625|50794.747140465224|102.778125|109.26187980139449|-0.1328857018686229|\n",
      "|         6|359138.45| 29.73| [359138.45,29.73]|346736.735625|50794.747140465224|102.778125|109.26187980139449|0.24415348186900046|\n",
      "|         6|339986.84|192.23|[339986.84,192.23]|346736.735625|50794.747140465224|102.778125|109.26187980139449|-0.1328857018686229|\n",
      "+----------+---------+------+------------------+-------------+------------------+----------+------------------+-------------------+\n",
      "only showing top 20 rows\n",
      "\n"
     ]
    }
   ],
   "source": [
    "zs = annotated.withColumn('z-rev', (annotated['revenue'] - annotated['rev_mean']) / annotated['rev_std'])\n",
    "\n",
    "zs.show()"
   ]
  },
  {
   "cell_type": "code",
   "execution_count": 58,
   "metadata": {},
   "outputs": [
    {
     "name": "stdout",
     "output_type": "stream",
     "text": [
      "+-------+---------+------+-------------------+-------------------+\n",
      "|cluster|  revenue|   tax|              z-rev|              z-tax|\n",
      "+-------+---------+------+-------------------+-------------------+\n",
      "|      1|847802.25| 29.73|-0.6231493888792362|-0.3333333333333327|\n",
      "|      1|847758.72| 29.73|-0.6240627679053142|-0.3333333333333327|\n",
      "|      1|965533.97| 29.73|  1.847185638734291|-0.3333333333333327|\n",
      "|      1|847758.72| 29.73|-0.6240627679053142|-0.3333333333333327|\n",
      "|      1|847802.25| 29.73|-0.6231493888792362|-0.3333333333333327|\n",
      "|      1|847758.72| 29.73|-0.6240627679053142|-0.3333333333333327|\n",
      "|      1|965533.97| 29.73|  1.847185638734291|-0.3333333333333327|\n",
      "|      1|847758.72| 29.73|-0.6240627679053142|-0.3333333333333327|\n",
      "|      1|847758.72| 29.73|-0.6240627679053142|-0.3333333333333327|\n",
      "|      1|909538.24| 35.45| 0.6722413398164666| 3.0000000000000004|\n",
      "|      6|378933.97| 17.51| 0.6338693701134764|-0.7804014094851015|\n",
      "|      6|359138.45| 29.73|0.24415348186900046|-0.6685600241619466|\n",
      "|      6|468033.46| 29.73| 2.3879777182387034|-0.6685600241619466|\n",
      "|      6|262794.39|  30.0|-1.6525792596795499| -0.666088896990322|\n",
      "|      6|359131.55| 29.73|0.24401764105103277|-0.6685600241619466|\n",
      "|      6|305759.63|177.68|-0.8067193544971087| 0.6855261426597207|\n",
      "|      6|400477.76|425.24|   1.05800358108659| 2.9512751893536846|\n",
      "|      6|339986.84|192.23|-0.1328857018686229| 0.8186924402417094|\n",
      "|      6|359138.45| 29.73|0.24415348186900046|-0.6685600241619466|\n",
      "|      6|339986.84|192.23|-0.1328857018686229| 0.8186924402417094|\n",
      "+-------+---------+------+-------------------+-------------------+\n",
      "only showing top 20 rows\n",
      "\n"
     ]
    }
   ],
   "source": [
    "zs = annotated.select(annotated['prediction'].alias('cluster'),\n",
    "                     'revenue',\n",
    "                     'tax',\n",
    "                     ((annotated['revenue'] - annotated['rev_mean']) / annotated['rev_std']).alias('z-rev'),\n",
    "                     ((annotated['tax'] - annotated['tax_mean']) / annotated['tax_std']).alias('z-tax'))\n",
    "\n",
    "zs.show()"
   ]
  },
  {
   "cell_type": "code",
   "execution_count": 60,
   "metadata": {},
   "outputs": [
    {
     "name": "stdout",
     "output_type": "stream",
     "text": [
      "+-------+---------+-----+-------------------+-------------------+------------------+-------+\n",
      "|cluster|  revenue|  tax|              z-rev|              z-tax|           z-score|outlier|\n",
      "+-------+---------+-----+-------------------+-------------------+------------------+-------+\n",
      "|      1|847802.25|29.73|-0.6231493888792362|-0.3333333333333327| 0.706700977763351|  false|\n",
      "|      1|847758.72|29.73|-0.6240627679053142|-0.3333333333333327|0.7075065013105906|  false|\n",
      "|      1|965533.97|29.73|  1.847185638734291|-0.3333333333333327| 1.877020483387787|  false|\n",
      "|      1|847758.72|29.73|-0.6240627679053142|-0.3333333333333327|0.7075065013105906|  false|\n",
      "|      1|847802.25|29.73|-0.6231493888792362|-0.3333333333333327| 0.706700977763351|  false|\n",
      "+-------+---------+-----+-------------------+-------------------+------------------+-------+\n",
      "only showing top 5 rows\n",
      "\n"
     ]
    }
   ],
   "source": [
    "scored = zs.withColumn('z-score', \n",
    "                      functions.sqrt(zs['z-rev'] ** 2 + zs['z-tax'] ** 2))\n",
    "\n",
    "outliered = scored.withColumn('outlier', scored['z-score'] > 3)\n",
    "\n",
    "outliered.show(5)"
   ]
  },
  {
   "cell_type": "markdown",
   "metadata": {},
   "source": [
    "### Plot the results\n",
    "\n",
    "We use the standard Python scientific stack to plot"
   ]
  },
  {
   "cell_type": "code",
   "execution_count": 62,
   "metadata": {},
   "outputs": [
    {
     "data": {
      "text/html": [
       "<div>\n",
       "<style>\n",
       "    .dataframe thead tr:only-child th {\n",
       "        text-align: right;\n",
       "    }\n",
       "\n",
       "    .dataframe thead th {\n",
       "        text-align: left;\n",
       "    }\n",
       "\n",
       "    .dataframe tbody tr th {\n",
       "        vertical-align: top;\n",
       "    }\n",
       "</style>\n",
       "<table border=\"1\" class=\"dataframe\">\n",
       "  <thead>\n",
       "    <tr style=\"text-align: right;\">\n",
       "      <th></th>\n",
       "      <th>cluster</th>\n",
       "      <th>revenue</th>\n",
       "      <th>tax</th>\n",
       "      <th>z-rev</th>\n",
       "      <th>z-tax</th>\n",
       "      <th>z-score</th>\n",
       "      <th>outlier</th>\n",
       "    </tr>\n",
       "  </thead>\n",
       "  <tbody>\n",
       "    <tr>\n",
       "      <th>1196779</th>\n",
       "      <td>0</td>\n",
       "      <td>0.000</td>\n",
       "      <td>161.130</td>\n",
       "      <td>-1.401305</td>\n",
       "      <td>1.039600</td>\n",
       "      <td>1.744828</td>\n",
       "      <td>False</td>\n",
       "    </tr>\n",
       "    <tr>\n",
       "      <th>275976</th>\n",
       "      <td>0</td>\n",
       "      <td>98.990</td>\n",
       "      <td>21.430</td>\n",
       "      <td>-0.375386</td>\n",
       "      <td>-0.719064</td>\n",
       "      <td>0.811152</td>\n",
       "      <td>False</td>\n",
       "    </tr>\n",
       "    <tr>\n",
       "      <th>1408664</th>\n",
       "      <td>0</td>\n",
       "      <td>143.985</td>\n",
       "      <td>224.640</td>\n",
       "      <td>0.090936</td>\n",
       "      <td>1.839119</td>\n",
       "      <td>1.841366</td>\n",
       "      <td>False</td>\n",
       "    </tr>\n",
       "    <tr>\n",
       "      <th>1448640</th>\n",
       "      <td>0</td>\n",
       "      <td>236.108</td>\n",
       "      <td>169.822</td>\n",
       "      <td>1.045686</td>\n",
       "      <td>1.149023</td>\n",
       "      <td>1.553613</td>\n",
       "      <td>False</td>\n",
       "    </tr>\n",
       "    <tr>\n",
       "      <th>811388</th>\n",
       "      <td>0</td>\n",
       "      <td>166.020</td>\n",
       "      <td>183.380</td>\n",
       "      <td>0.319304</td>\n",
       "      <td>1.319702</td>\n",
       "      <td>1.357781</td>\n",
       "      <td>False</td>\n",
       "    </tr>\n",
       "  </tbody>\n",
       "</table>\n",
       "</div>"
      ],
      "text/plain": [
       "         cluster  revenue      tax     z-rev     z-tax   z-score outlier\n",
       "1196779        0    0.000  161.130 -1.401305  1.039600  1.744828   False\n",
       "275976         0   98.990   21.430 -0.375386 -0.719064  0.811152   False\n",
       "1408664        0  143.985  224.640  0.090936  1.839119  1.841366   False\n",
       "1448640        0  236.108  169.822  1.045686  1.149023  1.553613   False\n",
       "811388         0  166.020  183.380  0.319304  1.319702  1.357781   False"
      ]
     },
     "execution_count": 62,
     "metadata": {},
     "output_type": "execute_result"
    }
   ],
   "source": [
    "pandas_df = outliered.toPandas()\n",
    "pandas_df.sample(5)"
   ]
  },
  {
   "cell_type": "code",
   "execution_count": 65,
   "metadata": {},
   "outputs": [
    {
     "data": {
      "text/plain": [
       "(-20, 750)"
      ]
     },
     "execution_count": 65,
     "metadata": {},
     "output_type": "execute_result"
    },
    {
     "data": {
      "image/png": "[encoded data removed]",
      "text/plain": [
       "<matplotlib.figure.Figure at 0x7f06d017ada0>"
      ]
     },
     "metadata": {},
     "output_type": "display_data"
    }
   ],
   "source": [
    "import matplotlib.pyplot as plt\n",
    "%matplotlib inline\n",
    "\n",
    "sample = pandas_df.sample(10000)\n",
    "\n",
    "plt.scatter(sample['revenue'], sample['tax'], c=sample['outlier'], alpha=.2)\n",
    "plt.gca().set_xlim(-20, 2000)\n",
    "plt.gca().set_ylim(-20, 750)"
   ]
  },
  {
   "cell_type": "markdown",
   "metadata": {},
   "source": [
    "Looks just the same!"
   ]
  },
  {
   "cell_type": "markdown",
   "metadata": {},
   "source": [
    "### Appendix: saving models\n",
    "\n",
    "Just like in sklearn, we can save learned models so that we can share, import or deploy them. In this case we have an additional perk over sklearn: we can use the saved models in pyspark, but also in Scala or Java-based Spark applications. R is trickier, but it should be coming at some point."
   ]
  },
  {
   "cell_type": "code",
   "execution_count": 66,
   "metadata": {
    "collapsed": true
   },
   "outputs": [],
   "source": [
    "km_model.save('my_kmeans_model')"
   ]
  },
  {
   "cell_type": "code",
   "execution_count": 68,
   "metadata": {
    "collapsed": true
   },
   "outputs": [],
   "source": [
    "from pyspark.ml.clustering import KMeansModel\n",
    "\n",
    "loaded_model = KMeansModel.load('my_kmeans_model')"
   ]
  },
  {
   "cell_type": "code",
   "execution_count": 70,
   "metadata": {},
   "outputs": [
    {
     "data": {
      "text/plain": [
       "DataFrame[revenue: double, tax: double, features: vector, prediction: int]"
      ]
     },
     "execution_count": 70,
     "metadata": {},
     "output_type": "execute_result"
    }
   ],
   "source": [
    "loaded_model.transform(newdf)"
   ]
  },
  {
   "cell_type": "code",
   "execution_count": 74,
   "metadata": {
    "collapsed": true
   },
   "outputs": [],
   "source": [
    "outliered.write.mode('overwrite').csv('outliered', header=True, sep='^')"
   ]
  },
  {
   "cell_type": "markdown",
   "metadata": {},
   "source": [
    "#### Exercise\n",
    "\n",
    "Turn this analysis into a Spark job (you can find an example in notebook 03).\n",
    "\n",
    "Upload it to the cluster and run it."
   ]
  }
 ],
 "metadata": {
  "anaconda-cloud": {},
  "kernelspec": {
   "display_name": "Python 3",
   "language": "python",
   "name": "python3"
  },
  "language_info": {
   "codemirror_mode": {
    "name": "ipython",
    "version": 3
   },
   "file_extension": ".py",
   "mimetype": "text/x-python",
   "name": "python",
   "nbconvert_exporter": "python",
   "pygments_lexer": "ipython3",
   "version": "3.6.2"
  }
 },
 "nbformat": 4,
 "nbformat_minor": 1
}
